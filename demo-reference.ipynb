{
 "cells": [
  {
   "cell_type": "code",
   "execution_count": 1,
   "metadata": {},
   "outputs": [],
   "source": [
    "import os \n",
    "with open(\".env\", \"r\") as f:\n",
    "    for line in f:\n",
    "        key, value = line.strip().split(\"=\")\n",
    "        os.environ[key] = value\n",
    "\n",
    "import palimpzest as pz"
   ]
  },
  {
   "cell_type": "markdown",
   "metadata": {},
   "source": [
    "### Define relevant schemata\n",
    "For the Paper Refernce extraction workload, the relevant entities are a Scientific Paper (an annotated PDF document) and a Reference (a citation to another document). The schema for the Scientific Paper is as follows:\n",
    "\n",
    "| Title | Year | Author | Journal | Subject | DOI |\n",
    "|----|----|----|----|----|----|\n",
    "| Title of the paper   | 2024    | Jane Doe  | Journal X | Paper is about ... | 10.1234/5678 |\n",
    "\n",
    "The schema for the Reference is as follows:\n",
    "| Index | Title | Author | Year |\n",
    "|----|----|----|----|\n",
    "| 0   | Referenced paper | John Smith | 2000 | \n"
   ]
  },
  {
   "cell_type": "code",
   "execution_count": 3,
   "metadata": {},
   "outputs": [],
   "source": [
    "class ScientificPaper(pz.PDFFile):\n",
    "   \"\"\"Represents a scientific research paper, which in practice is usually from a PDF file\"\"\"\n",
    "   paper_title = pz.Field(desc=\"The title of the paper. This is a natural language title, not a number or letter.\", required=True)\n",
    "   paper_year = pz.Field(desc=\"The year the paper was published. This is a number.\", required=False)\n",
    "   paper_author = pz.Field(desc=\"The name of the first author of the paper\", required=True)\n",
    "   paper_journal = pz.Field(desc=\"The name of the journal the paper was published in\", required=True)\n",
    "   paper_subject = pz.Field(desc=\"A summary of the paper contribution in one sentence\", required=False)\n",
    "   paper_doiURL = pz.Field(desc=\"The DOI URL for the paper\", required=True)\n",
    "\n",
    "class Reference(pz.Schema):\n",
    "    \"\"\" Represents a reference to another paper, which is cited in a scientific paper\"\"\"\n",
    "    reference_index = pz.Field(desc=\"The index of the reference in the paper\", required=True)\n",
    "    reference_title = pz.Field(desc=\"The title of the paper being cited\", required=True)\n",
    "    reference_first_author = pz.Field(desc=\"The author of the paper being cited\", required=True)\n",
    "    reference_year = pz.Field(desc=\"The year in which the cited paper was published\", required=True)"
   ]
  },
  {
   "cell_type": "markdown",
   "metadata": {},
   "source": [
    "### Define Workload\n",
    "\n",
    "The next cell defines the workload to extract the references from a scientific paper. First, we load a folder from our drive that contains the PDF files we want to process.\n",
    "These PDF are parsed using the Scientific Paper schema, then they are filtered for those that mention the phosphorylation of Exo1.\n",
    "Finally, we extract the Reference objects of the scientific papers."
   ]
  },
  {
   "cell_type": "code",
   "execution_count": 4,
   "metadata": {},
   "outputs": [],
   "source": [
    "## Define workload\n",
    "papers = pz.Dataset(\"bdf-usecase3-tiny\", schema=ScientificPaper)\n",
    "papers = papers.filter(\"The paper mentions phosphorylation of Exo1\")\n",
    "references = papers.convert(Reference, desc=\"A paper cited in the reference section\", cardinality=\"oneToMany\")"
   ]
  },
  {
   "cell_type": "markdown",
   "metadata": {},
   "source": [
    "### Execute Workload\n",
    "Finally, we execute the workload and print the results of the processing, as well as the statistics about how much time and cost it takes to process the workload.\n",
    "First, we run the workload deciding to optimize for cost using the `MinCost` policy."
   ]
  },
  {
   "cell_type": "code",
   "execution_count": 5,
   "metadata": {},
   "outputs": [
    {
     "name": "stdout",
     "output_type": "stream",
     "text": [
      "Available models:  [GPT_3_5, GPT_4]\n",
      "\n",
      "LOGICAL PLANS: 2\n",
      "INITIAL PLANS: 144\n",
      "INITIAL PLANS: 80\n",
      "DEDUP PLANS: 60\n",
      "PARETO PLANS: 3\n",
      "Time for planning: 0.25363683700561523\n",
      "Mimitou, 'Nucleases and helicases take center stage in homologous recombination', 2009\n",
      "Shiotani, 'Single-stranded DNA orchestrates an ATM-to-ATR switch at DNA breaks', 2009\n",
      "Sartori, 'Human CtIP promotes DNA end resection', 2007\n",
      "Bernstein, 'At loose ends: resecting a double-strand break', 2009\n",
      "None, 'A DNA exonuclease induced during meiosis of Schizosaccharomyces pombe', 2008\n",
      "None, 'Molecular interactions of human Exo1 with DNA', 2005\n",
      "None, 'Human exonuclease 1 functionally complements its yeast homologues in DNA recombination, RNA primer removal, and mutation avoidance', 2005\n",
      "None, 'Analysis of interactions between mismatch repair initiation factors and the replication processivity factor PCNA', 2001\n",
      "None, 'Exonuclease I of Saccharomyces cerevisiae functions in mitotic recombination in vivo and in vitro', 2000\n",
      "None, 'Decreased meiotic intergenic recombination and increased meiosis I nondisjunction in exo1 mutants of Saccharomyces cerevisiae', 1999\n",
      "None, 'Exo1 roles for repair of DNA double-strand breaks and meiotic crossing over in Saccharomyces cerevisiae', 2000\n",
      "None, 'Inactivation of Exonuclease 1 in mice results in DNA mismatch repair defects, increased cancer susceptibility, and male and female sterility', 2008\n",
      "None, 'Functional alterations of human exonuclease 1 mutants identified in atypical hereditary nonpolyposis colorectal cancer syndrome', 2008\n",
      "None, 'Germline mutations of EXO1 gene in patients with hereditary nonpolyposis colorectal cancer (HNPCC) and atypical HNPCC forms', 2000\n",
      "None, 'Exonuclease-1 deletion impairs DNA damage signaling and prolongs lifespan of telomere-dysfunctional mice', 2005\n",
      "None, 'Involvement of Exo1b in DNA damage-induced apoptosis', 1999\n",
      "None, 'Distinct roles of ATR and DNA-PKcs in triggering DNA damage responses in ATM-deficient cells', 2008\n",
      "None, 'Single-stranded DNA-binding protein hSSB1 is critical for genomic stability', 2000\n",
      "None, 'Autophosphorylation of DNA-PKCS regulates its dynamics at DNA double-strand breaks', 2008\n",
      "None, 'ATM associates with and phosphorylates p53: mapping the region of interaction', 2005\n"
     ]
    }
   ],
   "source": [
    "policy = pz.MinCost()\n",
    "\n",
    "engine = pz.StreamingSequentialExecution\n",
    "\n",
    "iterable  =  pz.Execute(references,\n",
    "                        allow_bonded_query=True,\n",
    "                        allow_code_synth=False,\n",
    "                        allow_token_reduction=False,\n",
    "                        policy = policy,\n",
    "                        execution_engine=engine)\n",
    "\n",
    "print()\n",
    "for results, plan, stats in iterable:\n",
    "    for r in results:\n",
    "        if r.reference_title:\n",
    "            print(f\"{r.reference_first_author}, '{r.reference_title}', {r.reference_year}\", flush=True)\n"
   ]
  },
  {
   "cell_type": "code",
   "execution_count": 7,
   "metadata": {},
   "outputs": [
    {
     "name": "stdout",
     "output_type": "stream",
     "text": [
      "Total_plan_time=131.50309419631958 \n",
      "Total_plan_cost=0.09834699999999987 \n",
      "0. MarshalAndScanDataOp time=0.14904117584228516 cost=0.0 \n",
      "1. LLMConvertConventional time=29.876057386398315 cost=0.04502249999999999 \n",
      "2. LLMFilter time=10.838376760482788 cost=0.0175725 \n",
      "3. LLMConvertConventional time=108.7512903213493 cost=0.035751999999999874 \n",
      "\n"
     ]
    }
   ],
   "source": [
    "print(stats)"
   ]
  },
  {
   "cell_type": "markdown",
   "metadata": {},
   "source": [
    "Since some of the reference extracted from the papers are missing the authors, due to the cheaper model being used, we run the workload again using the `MaxQuality` policy to get more accurate results, at the cost of a higher price."
   ]
  },
  {
   "cell_type": "code",
   "execution_count": 6,
   "metadata": {},
   "outputs": [
    {
     "name": "stdout",
     "output_type": "stream",
     "text": [
      "Available models:  [GPT_3_5, GPT_4]\n",
      "\n",
      "LOGICAL PLANS: 2\n",
      "INITIAL PLANS: 144\n",
      "INITIAL PLANS: 80\n",
      "DEDUP PLANS: 60\n",
      "PARETO PLANS: 3\n",
      "Time for planning: 0.3397045135498047\n",
      "Mimitou, E.P., 'Nucleases and helicases take center stage in homologous recombination', 2009\n",
      "Shiotani, B., 'Single-stranded DNA orchestrates an ATM-to-ATR switch at DNA breaks', 2009\n",
      "Sartori, A.A., 'Human CtIP promotes DNA end resection', 2007\n",
      "Bernstein, K.A., 'At loose ends: resecting a double-strand break', 2009\n",
      "Szankasi, P., 'A DNA exonuclease induced during meiosis of Schizosaccharomyces pombe', 1992\n",
      "Lee Bi, B.I., 'Molecular interactions of human Exo1 with DNA', 2002\n",
      "Qiu, J., 'Human exonuclease 1 functionally complements its yeast homologues in DNA recombination, RNA primer removal, and mutation avoidance', 1999\n",
      "Lee, S.D., 'Analysis of interactions between mismatch repair initiation factors and the replication processivity factor PCNA', 2006\n",
      "Kirkpatrick, D.T., 'Decreased meiotic intergenic recombination and increased meiosis I nondisjunction in exo1 mutants of Saccharomyces cerevisiae', 2000\n",
      "Tsubouchi, H., 'Exo1 roles for repair of DNA double-strand breaks and meiotic crossing over in Saccharomyces cerevisiae', 2000\n",
      "Wei, K., 'Inactivation of Exonuclease 1 in mice results in DNA mismatch repair defects, increased cancer susceptibility, and male and female sterility', 2003\n",
      "Sun, X., 'Functional alterations of human exonuclease 1 mutants identified in atypical hereditary nonpolyposis colorectal cancer syndrome', 2002\n",
      "Wu, Y., 'Germline mutations of EXO1 gene in patients with hereditary nonpolyposis colorectal cancer (HNPCC) and atypical HNPCC forms', 2001\n",
      "Schaetzlein, S., 'Exonuclease-1 deletion impairs DNA damage signaling and prolongs lifespan of telomere-dysfunctional mice', 2007\n",
      "Bolderson, E., 'Involvement of Exo1b in DNA damage-induced apoptosis', 2009\n",
      "Tomimatsu, N., 'Distinct roles of ATR and DNA-PKcs in triggering DNA damage responses in ATM-deficient cells', 2009\n",
      "Richard, D.J., 'Single-stranded DNA-binding protein hSSB1 is critical for genomic stability', 2008\n",
      "Uematsu, N., 'Autophosphorylation of DNA-PKCS regulates its dynamics at DNA double-strand breaks', 2007\n",
      "Khanna, K.K., 'ATM associates with and phosphorylates p53: mapping the region of interaction', 1998\n",
      "Young, D.B., 'Identification of domains of ataxia-telangiectasia mutated required for nuclear localization and chromatin association', 2005\n",
      "Li, Y., 'hSSB1 and hSSB2 form similar multi-protein complexes that participate in DNA damage response', 2009\n",
      "Gupta, A., 'Involvement of human MOF in ATM function', 2005\n",
      "Gravel, S., 'DNA helicases Sgs1 and BLM promote DNA double-strand break resection', 2008\n",
      "Rogakou, E.P., 'DNA double-stranded breaks induce histone H2AX phosphorylation on serine 139', 1998\n",
      "Chen, H.T., 'Response to RAG-mediated VDJ cleavage by NBS1 and gamma-H2AX', 2000\n",
      "Peterson, C.L., 'Chromatin: mysteries solved?', 2001\n",
      "Litman, R., 'BACH1 is critical for homologous recombination and appears to be the Fanconi anemia gene product FANCJ', 2005\n",
      "Pierce, A.J., 'XRCC3 promotes homology-directed repair of DNA damage in mammalian cells', 1999\n",
      "Zhou, B.B., 'The DNA damage response: putting checkpoints in perspective', 2000\n"
     ]
    }
   ],
   "source": [
    "policy = pz.MaxQuality()\n",
    "\n",
    "engine = pz.StreamingSequentialExecution\n",
    "\n",
    "iterable  =  pz.Execute(references,\n",
    "                        allow_bonded_query=True,\n",
    "                        allow_code_synth=False,\n",
    "                        allow_token_reduction=False,\n",
    "                        policy = policy,\n",
    "                        execution_engine=engine)\n",
    "\n",
    "print()\n",
    "for results, plan, stats in iterable:\n",
    "    for r in results:\n",
    "        if r.reference_title:\n",
    "            print(f\"{r.reference_first_author}, '{r.reference_title}', {r.reference_year}\", flush=True)"
   ]
  },
  {
   "cell_type": "code",
   "execution_count": 10,
   "metadata": {},
   "outputs": [
    {
     "name": "stdout",
     "output_type": "stream",
     "text": [
      "Total_plan_time=225.37218475341797 \n",
      "Total_plan_cost=0.8608459999999991 \n",
      "0. MarshalAndScanDataOp time=0.1463642120361328 cost=0.0 \n",
      "1. BondedQueryConvertStrategy time=23.795532941818237 cost=0.16295 \n",
      "2. BondedQueryConvertStrategy time=120.77890276908877 cost=0.4626099999999992 \n",
      "3. LLMFilter time=81.29191517829894 cost=0.23528599999999988 \n",
      "\n"
     ]
    }
   ],
   "source": [
    "print(stats)"
   ]
  }
 ],
 "metadata": {
  "kernelspec": {
   "display_name": "Python 3 (ipykernel)",
   "language": "python",
   "name": "python3"
  },
  "language_info": {
   "codemirror_mode": {
    "name": "ipython",
    "version": 3
   },
   "file_extension": ".py",
   "mimetype": "text/x-python",
   "name": "python",
   "nbconvert_exporter": "python",
   "pygments_lexer": "ipython3",
   "version": "3.10.14"
  }
 },
 "nbformat": 4,
 "nbformat_minor": 4
}
